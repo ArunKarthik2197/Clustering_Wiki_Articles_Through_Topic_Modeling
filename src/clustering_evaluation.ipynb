{
 "cells": [
  {
   "cell_type": "code",
   "execution_count": null,
   "metadata": {},
   "outputs": [],
   "source": [
    "import pandas as pd\n",
    "import numpy as np\n",
    "import os\n",
    "\n",
    "base_folder = os.path.abspath(\"..\")\n",
    "results_folder = os.path.join(base_folder, \"results\")\n",
    "\n",
    "# Use the PIC results desired\n",
    "# pic_clustering_results = os.path.join(results_folder, \"pic_clustering_final_results/final_100-15_clusters.csv\")\n",
    "# pic_clustering_results = os.path.join(results_folder, \"pic_clustering_final_results/final_100-20_clusters.csv\")\n",
    "pic_clustering_results = os.path.join(results_folder, \"pic_clustering_final_results/final_100-25_clusters.csv\")\n",
    "\n",
    "# Use the LDA k-Means results desired\n",
    "lda_clustering_results = os.path.join(results_folder, \"lda_results_1_pass/k_means_lda_clustering_100.csv\") \n",
    "# lda_clustering_results = os.path.join(results_folder, \"lda_results_3_pass/k_means_lda_clustering_100.csv\") "
   ]
  },
  {
   "cell_type": "code",
   "execution_count": null,
   "metadata": {},
   "outputs": [],
   "source": [
    "pic_clusters = pd.read_csv(pic_clustering_results).rename(columns={\"_1\": \"page_id\", \"_2\":\"pic_cluster_id\"})\n",
    "lda_clusters = pd.read_csv(lda_clustering_results, index_col=0).reset_index().rename(columns={\"index\": \"page_id\", \"prediction\":\"lda_cluster_id\"})\n"
   ]
  },
  {
   "cell_type": "code",
   "execution_count": null,
   "metadata": {},
   "outputs": [],
   "source": [
    "cluster_info = pic_clusters.merge(lda_clusters, on=\"page_id\")"
   ]
  },
  {
   "cell_type": "code",
   "execution_count": null,
   "metadata": {},
   "outputs": [],
   "source": [
    "cluster_info"
   ]
  },
  {
   "cell_type": "code",
   "execution_count": null,
   "metadata": {},
   "outputs": [],
   "source": [
    "from sklearn.metrics.cluster import homogeneity_score, normalized_mutual_info_score, v_measure_score, adjusted_rand_score, adjusted_mutual_info_score"
   ]
  },
  {
   "cell_type": "code",
   "execution_count": null,
   "metadata": {},
   "outputs": [],
   "source": [
    "homogeneity_score(cluster_info.lda_cluster_id.tolist(), cluster_info.pic_cluster_id.tolist())"
   ]
  },
  {
   "cell_type": "code",
   "execution_count": null,
   "metadata": {},
   "outputs": [],
   "source": [
    "normalized_mutual_info_score(cluster_info.lda_cluster_id.tolist(), cluster_info.pic_cluster_id.tolist())"
   ]
  },
  {
   "cell_type": "code",
   "execution_count": null,
   "metadata": {},
   "outputs": [],
   "source": [
    "v_measure_score(cluster_info.lda_cluster_id.tolist(), cluster_info.pic_cluster_id.tolist())"
   ]
  },
  {
   "cell_type": "code",
   "execution_count": null,
   "metadata": {},
   "outputs": [],
   "source": [
    "adjusted_mutual_info_score(cluster_info.lda_cluster_id.tolist(), cluster_info.pic_cluster_id.tolist())"
   ]
  },
  {
   "cell_type": "code",
   "execution_count": null,
   "metadata": {},
   "outputs": [],
   "source": []
  },
  {
   "cell_type": "code",
   "execution_count": null,
   "metadata": {},
   "outputs": [],
   "source": []
  },
  {
   "cell_type": "code",
   "execution_count": null,
   "metadata": {},
   "outputs": [],
   "source": []
  }
 ],
 "metadata": {
  "kernelspec": {
   "display_name": "Python 3",
   "language": "python",
   "name": "python3"
  },
  "language_info": {
   "codemirror_mode": {
    "name": "ipython",
    "version": 3
   },
   "file_extension": ".py",
   "mimetype": "text/x-python",
   "name": "python",
   "nbconvert_exporter": "python",
   "pygments_lexer": "ipython3",
   "version": "3.7.0"
  }
 },
 "nbformat": 4,
 "nbformat_minor": 2
}